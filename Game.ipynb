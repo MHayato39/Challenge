{
 "cells": [
  {
   "cell_type": "code",
   "execution_count": 28,
   "metadata": {},
   "outputs": [],
   "source": [
    "from random import shuffle"
   ]
  },
  {
   "cell_type": "code",
   "execution_count": 29,
   "metadata": {},
   "outputs": [],
   "source": [
    "class Card:\n",
    "    # カードのマークを表す\n",
    "    marks = {0:\"spades\", 1:\"hearts\", 2:\"diamonds\", 3:\"clubs\"}\n",
    "    # カードの値を表す\n",
    "    # 値とインデックスが一致するように頭2つにNoneを格納（有効なインデックス：2~14）\n",
    "    values =[None, None,\n",
    "             \"2\", \"3\", \"4\", \"5\", \"6\", \"7\", \"8\", \"9\",\n",
    "             \"10\", \"Jack\", \"Queen\", \"King\", \"Ace\"]\n",
    "    \n",
    "    def __init__(self, v, m):\n",
    "        self.value = v\n",
    "        self.mark = m\n",
    "        \n",
    "    def __lt__(self, c2):\n",
    "        if self.value < c2.value:\n",
    "            return True\n",
    "        if self.value == c2.value:\n",
    "            if self.mark < c2.mark:\n",
    "                return True\n",
    "            else:\n",
    "                return False\n",
    "        return False\n",
    "    \n",
    "    def __gt__(self, c2):\n",
    "        if self.value > c2.value:\n",
    "            return True\n",
    "        if self.value == c2.value:\n",
    "            if self.mark > c2.mark:\n",
    "                return True\n",
    "            else :\n",
    "                return False\n",
    "        return False\n",
    "    \n",
    "    # __reprをオーバーライド\n",
    "    # これによってprint()関数でオブジェクトを渡したとき、returnの値が表示される\n",
    "    # 記述がない場\n",
    "    def __repr__(self):\n",
    "        v = self.values[self.value] + \" of \" + self.marks[self.mark]\n",
    "        return v\n",
    "    "
   ]
  },
  {
   "cell_type": "code",
   "execution_count": 30,
   "metadata": {},
   "outputs": [],
   "source": [
    "class Deck:\n",
    "    # 52枚のカードのデッキを作成\n",
    "    def __init__(self):\n",
    "        self.cards = []\n",
    "        for i in range(2, 15): # Cardのvaluesに対応\n",
    "            for j in range(4): # Cardのmarksに対応\n",
    "                self.cards.append((Card.values[i], Card.marks[j]))\n",
    "        shuffle(self.cards) # デッキをシャッフルする\n",
    "        \n",
    "    # 手札を出す\n",
    "    def rm_card(self):\n",
    "        if len(self.cards) == 0:  # 手札が０の場合はNoneを返す\n",
    "            return \n",
    "        return self.cards.pop()  # 手札を1枚出す\n",
    "        "
   ]
  },
  {
   "cell_type": "code",
   "execution_count": 31,
   "metadata": {},
   "outputs": [],
   "source": [
    "# プレイヤーを表すクラス\n",
    "class Player:\n",
    "    def __init__(self, name):\n",
    "        self.wins = 0 # ゲームで何回勝ったか\n",
    "        self.card = None # プレイヤーが持っているカード\n",
    "        self.name = name # プレイヤーの名前\n"
   ]
  },
  {
   "cell_type": "code",
   "execution_count": 35,
   "metadata": {},
   "outputs": [],
   "source": [
    "# ゲーム本体のクラス\n",
    "class Game:\n",
    "    def __init__(self):\n",
    "        name1 = input(\"プレイヤー１の名前\")\n",
    "        name2 = input(\"プレイヤー２の名前\")\n",
    "        self.deck = Deck()\n",
    "        self.p1 = Player(name1)\n",
    "        self.p2 = Player(name2)\n",
    "        \n",
    "    def wins(self, winner):\n",
    "        w = \"このラウンドは {} が勝ちました\"\n",
    "        w = w.format(winner)\n",
    "        print(w)\n",
    "        print()\n",
    "        \n",
    "    def draw(self, p1n, p1c, p2n, p2c):\n",
    "        # p1n, p2n : プレイヤー1, 2の名前\n",
    "        # p1c, p2c : プレイヤー1, 2のカード\n",
    "        d = \"{} は {}, {} は {} を引きました\"\n",
    "        d = d.format(p1n, p1c, p2n, p2c)\n",
    "        print(d)\n",
    "        \n",
    "    def play_game(self):\n",
    "        cards = self.deck.cards\n",
    "        print(\"戦争を始めます\")\n",
    "        while len(cards) >= 2:\n",
    "            m = \"q で終了, それ以外のキーでPlay\"\n",
    "            response = input(m)\n",
    "                             \n",
    "            if self.p1.wins==0 and self.p2.wins==0 and response == 'q': # ゲームを1回も実行しないで終了\n",
    "                print(\"終了しました\")\n",
    "                return \n",
    "            if response == 'q': # ゲームを途中で終了\n",
    "                break;\n",
    "                \n",
    "            p1c = self.deck.rm_card() # カードを出す\n",
    "            p2c = self.deck.rm_card() # カードを出す\n",
    "            p1n = self.p1.name\n",
    "            p2n = self.p2.name\n",
    "            self.draw(p1n, p1c, p2n, p2c)\n",
    "            \n",
    "            if p1c > p2c:\n",
    "                self.p1.wins += 1\n",
    "                self.wins(self.p1.name)\n",
    "            else:\n",
    "                self.p2.wins += 1\n",
    "                self.wins(self.p2.name)\n",
    "                \n",
    "        print()\n",
    "        win = self.winner(self.p1, self.p2)\n",
    "        print(p1n, self.p1.wins, \" : \", p2n, self.p2.wins)\n",
    "        if self.p1.wins == 0 and self.p2.wins == 0:\n",
    "            print(\"ゲーム終了\")\n",
    "        else:\n",
    "            print(\"ゲーム終了, {} の勝利です\".format(win))\n",
    "        \n",
    "    def winner(self, p1, p2):\n",
    "        if p1.wins > p2.wins:\n",
    "            return p1.name\n",
    "        else:\n",
    "            return p2.name\n",
    "        return \"引き分け\""
   ]
  },
  {
   "cell_type": "code",
   "execution_count": 36,
   "metadata": {},
   "outputs": [
    {
     "name": "stdin",
     "output_type": "stream",
     "text": [
      "プレイヤー１の名前 a\n",
      "プレイヤー２の名前 b\n"
     ]
    }
   ],
   "source": [
    "game = Game()"
   ]
  },
  {
   "cell_type": "code",
   "execution_count": 37,
   "metadata": {},
   "outputs": [
    {
     "name": "stdout",
     "output_type": "stream",
     "text": [
      "戦争を始めます\n"
     ]
    },
    {
     "name": "stdin",
     "output_type": "stream",
     "text": [
      "q で終了, それ以外のキーでPlay \n"
     ]
    },
    {
     "name": "stdout",
     "output_type": "stream",
     "text": [
      "a は ('4', 'spades'), b は ('6', 'diamonds') を引きました\n",
      "このラウンドは b が勝ちました\n",
      "\n"
     ]
    },
    {
     "name": "stdin",
     "output_type": "stream",
     "text": [
      "q で終了, それ以外のキーでPlay \n"
     ]
    },
    {
     "name": "stdout",
     "output_type": "stream",
     "text": [
      "a は ('Ace', 'spades'), b は ('8', 'hearts') を引きました\n",
      "このラウンドは a が勝ちました\n",
      "\n"
     ]
    },
    {
     "name": "stdin",
     "output_type": "stream",
     "text": [
      "q で終了, それ以外のキーでPlay \n"
     ]
    },
    {
     "name": "stdout",
     "output_type": "stream",
     "text": [
      "a は ('5', 'clubs'), b は ('10', 'diamonds') を引きました\n",
      "このラウンドは a が勝ちました\n",
      "\n"
     ]
    },
    {
     "name": "stdin",
     "output_type": "stream",
     "text": [
      "q で終了, それ以外のキーでPlay \n"
     ]
    },
    {
     "name": "stdout",
     "output_type": "stream",
     "text": [
      "a は ('Queen', 'spades'), b は ('King', 'spades') を引きました\n",
      "このラウンドは a が勝ちました\n",
      "\n"
     ]
    },
    {
     "name": "stdin",
     "output_type": "stream",
     "text": [
      "q で終了, それ以外のキーでPlay \n"
     ]
    },
    {
     "name": "stdout",
     "output_type": "stream",
     "text": [
      "a は ('Queen', 'hearts'), b は ('8', 'diamonds') を引きました\n",
      "このラウンドは a が勝ちました\n",
      "\n"
     ]
    },
    {
     "name": "stdin",
     "output_type": "stream",
     "text": [
      "q で終了, それ以外のキーでPlay \n"
     ]
    },
    {
     "name": "stdout",
     "output_type": "stream",
     "text": [
      "a は ('2', 'spades'), b は ('10', 'spades') を引きました\n",
      "このラウンドは a が勝ちました\n",
      "\n"
     ]
    },
    {
     "name": "stdin",
     "output_type": "stream",
     "text": [
      "q で終了, それ以外のキーでPlay \n"
     ]
    },
    {
     "name": "stdout",
     "output_type": "stream",
     "text": [
      "a は ('9', 'spades'), b は ('6', 'clubs') を引きました\n",
      "このラウンドは a が勝ちました\n",
      "\n"
     ]
    },
    {
     "name": "stdin",
     "output_type": "stream",
     "text": [
      "q で終了, それ以外のキーでPlay \n"
     ]
    },
    {
     "name": "stdout",
     "output_type": "stream",
     "text": [
      "a は ('King', 'hearts'), b は ('6', 'spades') を引きました\n",
      "このラウンドは a が勝ちました\n",
      "\n"
     ]
    },
    {
     "name": "stdin",
     "output_type": "stream",
     "text": [
      "q で終了, それ以外のキーでPlay \n"
     ]
    },
    {
     "name": "stdout",
     "output_type": "stream",
     "text": [
      "a は ('7', 'diamonds'), b は ('King', 'diamonds') を引きました\n",
      "このラウンドは b が勝ちました\n",
      "\n"
     ]
    },
    {
     "name": "stdin",
     "output_type": "stream",
     "text": [
      "q で終了, それ以外のキーでPlay q\n"
     ]
    },
    {
     "name": "stdout",
     "output_type": "stream",
     "text": [
      "\n",
      "a 7  :  b 2\n",
      "ゲーム終了, a の勝利です\n"
     ]
    }
   ],
   "source": [
    "game.play_game()"
   ]
  },
  {
   "cell_type": "code",
   "execution_count": 26,
   "metadata": {},
   "outputs": [
    {
     "data": {
      "text/plain": [
       "[(2, 'clubs')]"
      ]
     },
     "execution_count": 26,
     "metadata": {},
     "output_type": "execute_result"
    }
   ],
   "source": []
  }
 ],
 "metadata": {
  "kernelspec": {
   "display_name": "Python 3",
   "language": "python",
   "name": "python3"
  },
  "language_info": {
   "codemirror_mode": {
    "name": "ipython",
    "version": 3
   },
   "file_extension": ".py",
   "mimetype": "text/x-python",
   "name": "python",
   "nbconvert_exporter": "python",
   "pygments_lexer": "ipython3",
   "version": "3.8.5"
  }
 },
 "nbformat": 4,
 "nbformat_minor": 4
}
